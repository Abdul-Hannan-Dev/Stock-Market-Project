{
 "cells": [
  {
   "cell_type": "code",
   "execution_count": 3,
   "id": "519040f9",
   "metadata": {},
   "outputs": [
    {
     "name": "stdout",
     "output_type": "stream",
     "text": [
      "Requirement already satisfied: kafka-python in c:\\users\\uni-tech\\anaconda3\\lib\\site-packages (2.2.13)\n"
     ]
    }
   ],
   "source": [
    "!pip install kafka-python\n",
    "import pandas as pd \n",
    "from kafka import  KafkaProducer\n",
    "from time import sleep\n",
    "from json import dumps\n",
    "import json"
   ]
  },
  {
   "cell_type": "code",
   "execution_count": 4,
   "id": "98ddc24f",
   "metadata": {},
   "outputs": [],
   "source": [
    "producer=KafkaProducer(bootstrap_servers=['13.60.37.209:9092'],\n",
    "                       value_serializer=lambda x:\n",
    "                       dumps(x).encode('utf-8'))"
   ]
  },
  {
   "cell_type": "code",
   "execution_count": 6,
   "id": "0764bf65",
   "metadata": {},
   "outputs": [],
   "source": [
    "df=pd.read_csv(\"E:\\indexProcessed.csv\")"
   ]
  },
  {
   "cell_type": "code",
   "execution_count": null,
   "id": "926a4d68",
   "metadata": {},
   "outputs": [],
   "source": [
    "while True:\n",
    "    dict_stock=df.sample(1).to_dict(orient='records')[0]\n",
    "    producer.send('demo_test2',value=dict_stock)\n",
    "    sleep(1)"
   ]
  }
 ],
 "metadata": {
  "kernelspec": {
   "display_name": "base",
   "language": "python",
   "name": "python3"
  },
  "language_info": {
   "codemirror_mode": {
    "name": "ipython",
    "version": 3
   },
   "file_extension": ".py",
   "mimetype": "text/x-python",
   "name": "python",
   "nbconvert_exporter": "python",
   "pygments_lexer": "ipython3",
   "version": "3.13.5"
  }
 },
 "nbformat": 4,
 "nbformat_minor": 5
}
