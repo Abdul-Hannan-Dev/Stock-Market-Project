{
 "cells": [
  {
   "cell_type": "code",
   "execution_count": null,
   "id": "fb47e271",
   "metadata": {},
   "outputs": [
    {
     "name": "stdout",
     "output_type": "stream",
     "text": [
      "Requirement already satisfied: kafka-python in c:\\users\\uni-tech\\anaconda3\\lib\\site-packages (2.2.13)\n"
     ]
    }
   ],
   "source": [
    "!pip install kafka-python\n",
    "!pip install s3fs\n",
    "import pandas as pd \n",
    "from kafka import KafkaConsumer\n",
    "from time import sleep\n",
    "from json import loads\n",
    "import json\n",
    "from s3fs import S3FileSystem"
   ]
  },
  {
   "cell_type": "code",
   "execution_count": 3,
   "id": "cac27a89",
   "metadata": {},
   "outputs": [],
   "source": [
    "consumer=KafkaConsumer('demo_test2',bootstrap_servers=['13.60.37.209:9092'],\n",
    "                       value_deserializer=lambda x:loads(x.decode('utf-8')))"
   ]
  },
  {
   "cell_type": "code",
   "execution_count": 4,
   "id": "3d873ba0",
   "metadata": {},
   "outputs": [],
   "source": [
    "s3=S3FileSystem()"
   ]
  },
  {
   "cell_type": "code",
   "execution_count": null,
   "id": "6c9f8ff9",
   "metadata": {},
   "outputs": [],
   "source": [
    "for count,upload_to_s3 in enumerate(consumer):\n",
    "    with s3.open('s3://stock-markets-project-hannan/stock_market_{}.json'.format(count), 'w') as file:\n",
    "        json.dump(upload_to_s3.value, file)"
   ]
  }
 ],
 "metadata": {
  "kernelspec": {
   "display_name": "base",
   "language": "python",
   "name": "python3"
  },
  "language_info": {
   "codemirror_mode": {
    "name": "ipython",
    "version": 3
   },
   "file_extension": ".py",
   "mimetype": "text/x-python",
   "name": "python",
   "nbconvert_exporter": "python",
   "pygments_lexer": "ipython3",
   "version": "3.13.5"
  }
 },
 "nbformat": 4,
 "nbformat_minor": 5
}
